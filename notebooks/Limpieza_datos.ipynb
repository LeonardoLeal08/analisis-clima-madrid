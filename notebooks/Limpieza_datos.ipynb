{
 "cells": [
  {
   "cell_type": "code",
   "execution_count": 40,
   "metadata": {
    "colab": {
     "base_uri": "https://localhost:8080/"
    },
    "executionInfo": {
     "elapsed": 22870,
     "status": "ok",
     "timestamp": 1742373130379,
     "user": {
      "displayName": "Leonardo Leal Vivas",
      "userId": "09547247894374016406"
     },
     "user_tz": -60
    },
    "id": "sFvgxxsCGI8k",
    "outputId": "38116210-814e-44a1-c43b-c48e90e7c3a5"
   },
   "outputs": [],
   "source": [
    "import pandas as pd\n",
    "import numpy as np\n",
    "import matplotlib.pyplot as plt\n",
    "import seaborn as sns"
   ]
  },
  {
   "cell_type": "code",
   "execution_count": 41,
   "metadata": {
    "colab": {
     "base_uri": "https://localhost:8080/",
     "height": 206
    },
    "executionInfo": {
     "elapsed": 488,
     "status": "ok",
     "timestamp": 1742373131717,
     "user": {
      "displayName": "Leonardo Leal Vivas",
      "userId": "09547247894374016406"
     },
     "user_tz": -60
    },
    "id": "6i8XryRvGlbA",
    "outputId": "c38ebede-0f25-43b5-ff2c-28caee1c7531"
   },
   "outputs": [
    {
     "data": {
      "text/html": [
       "<div>\n",
       "<style scoped>\n",
       "    .dataframe tbody tr th:only-of-type {\n",
       "        vertical-align: middle;\n",
       "    }\n",
       "\n",
       "    .dataframe tbody tr th {\n",
       "        vertical-align: top;\n",
       "    }\n",
       "\n",
       "    .dataframe thead th {\n",
       "        text-align: right;\n",
       "    }\n",
       "</style>\n",
       "<table border=\"1\" class=\"dataframe\">\n",
       "  <thead>\n",
       "    <tr style=\"text-align: right;\">\n",
       "      <th></th>\n",
       "      <th>date</th>\n",
       "      <th>hour</th>\n",
       "      <th>temperature</th>\n",
       "      <th>humidity</th>\n",
       "      <th>sky_condition</th>\n",
       "      <th>wind_direction</th>\n",
       "      <th>wind_speed</th>\n",
       "      <th>timestamp</th>\n",
       "    </tr>\n",
       "  </thead>\n",
       "  <tbody>\n",
       "    <tr>\n",
       "      <th>0</th>\n",
       "      <td>18/02/2025</td>\n",
       "      <td>8</td>\n",
       "      <td>7</td>\n",
       "      <td>87</td>\n",
       "      <td>Nubes altas</td>\n",
       "      <td>NE</td>\n",
       "      <td>12</td>\n",
       "      <td>18/02/2025 17:16</td>\n",
       "    </tr>\n",
       "    <tr>\n",
       "      <th>1</th>\n",
       "      <td>18/02/2025</td>\n",
       "      <td>9</td>\n",
       "      <td>8</td>\n",
       "      <td>80</td>\n",
       "      <td>Nubes altas</td>\n",
       "      <td>NE</td>\n",
       "      <td>11</td>\n",
       "      <td>18/02/2025 17:16</td>\n",
       "    </tr>\n",
       "    <tr>\n",
       "      <th>2</th>\n",
       "      <td>18/02/2025</td>\n",
       "      <td>10</td>\n",
       "      <td>9</td>\n",
       "      <td>73</td>\n",
       "      <td>Nubes altas</td>\n",
       "      <td>NE</td>\n",
       "      <td>11</td>\n",
       "      <td>18/02/2025 17:16</td>\n",
       "    </tr>\n",
       "    <tr>\n",
       "      <th>3</th>\n",
       "      <td>18/02/2025</td>\n",
       "      <td>11</td>\n",
       "      <td>10</td>\n",
       "      <td>65</td>\n",
       "      <td>Nubes altas</td>\n",
       "      <td>E</td>\n",
       "      <td>8</td>\n",
       "      <td>18/02/2025 17:16</td>\n",
       "    </tr>\n",
       "    <tr>\n",
       "      <th>4</th>\n",
       "      <td>18/02/2025</td>\n",
       "      <td>12</td>\n",
       "      <td>12</td>\n",
       "      <td>58</td>\n",
       "      <td>Nubes altas</td>\n",
       "      <td>E</td>\n",
       "      <td>6</td>\n",
       "      <td>18/02/2025 17:16</td>\n",
       "    </tr>\n",
       "  </tbody>\n",
       "</table>\n",
       "</div>"
      ],
      "text/plain": [
       "         date  hour  temperature  humidity sky_condition wind_direction  \\\n",
       "0  18/02/2025     8            7        87   Nubes altas             NE   \n",
       "1  18/02/2025     9            8        80   Nubes altas             NE   \n",
       "2  18/02/2025    10            9        73   Nubes altas             NE   \n",
       "3  18/02/2025    11           10        65   Nubes altas              E   \n",
       "4  18/02/2025    12           12        58   Nubes altas              E   \n",
       "\n",
       "   wind_speed         timestamp  \n",
       "0          12  18/02/2025 17:16  \n",
       "1          11  18/02/2025 17:16  \n",
       "2          11  18/02/2025 17:16  \n",
       "3           8  18/02/2025 17:16  \n",
       "4           6  18/02/2025 17:16  "
      ]
     },
     "execution_count": 41,
     "metadata": {},
     "output_type": "execute_result"
    }
   ],
   "source": [
    "df = pd.read_csv(\"weather_forecast.csv\")\n",
    "df.head()"
   ]
  },
  {
   "cell_type": "code",
   "execution_count": 42,
   "metadata": {
    "colab": {
     "base_uri": "https://localhost:8080/"
    },
    "executionInfo": {
     "elapsed": 36,
     "status": "ok",
     "timestamp": 1742373137096,
     "user": {
      "displayName": "Leonardo Leal Vivas",
      "userId": "09547247894374016406"
     },
     "user_tz": -60
    },
    "id": "B3q8TZsuGrR2",
    "outputId": "50a253eb-24d2-4a21-d0fa-55af6db406f6"
   },
   "outputs": [
    {
     "name": "stdout",
     "output_type": "stream",
     "text": [
      "['Nubes altas' 'Cubierto' 'Poco nuboso' 'Nuboso' 'Muy nuboso' 'Despejado'\n",
      " 'Cubierto con lluvia escasa' 'Cubierto con lluvia'\n",
      " 'Cubierto con tormenta y lluvia escasa']\n",
      "['NE' 'E' 'S' 'O' 'NO' 'N' 'SO' 'SE' 'C']\n"
     ]
    }
   ],
   "source": [
    "# Queremos transformar la dirección del viento y la condicion del cielo en inglés\n",
    "# 1.- vemos si hay valores unicos\n",
    "\n",
    "print(df[\"sky_condition\"].unique())\n",
    "print(df[\"wind_direction\"].unique())"
   ]
  },
  {
   "cell_type": "code",
   "execution_count": 43,
   "metadata": {
    "colab": {
     "base_uri": "https://localhost:8080/",
     "height": 206
    },
    "executionInfo": {
     "elapsed": 32,
     "status": "ok",
     "timestamp": 1742373139743,
     "user": {
      "displayName": "Leonardo Leal Vivas",
      "userId": "09547247894374016406"
     },
     "user_tz": -60
    },
    "id": "KqNc43ShG2Vi",
    "outputId": "1285501d-0656-44db-ef04-4ca2907c0027"
   },
   "outputs": [
    {
     "data": {
      "text/html": [
       "<div>\n",
       "<style scoped>\n",
       "    .dataframe tbody tr th:only-of-type {\n",
       "        vertical-align: middle;\n",
       "    }\n",
       "\n",
       "    .dataframe tbody tr th {\n",
       "        vertical-align: top;\n",
       "    }\n",
       "\n",
       "    .dataframe thead th {\n",
       "        text-align: right;\n",
       "    }\n",
       "</style>\n",
       "<table border=\"1\" class=\"dataframe\">\n",
       "  <thead>\n",
       "    <tr style=\"text-align: right;\">\n",
       "      <th></th>\n",
       "      <th>date</th>\n",
       "      <th>hour</th>\n",
       "      <th>temperature</th>\n",
       "      <th>humidity</th>\n",
       "      <th>sky_condition</th>\n",
       "      <th>wind_direction</th>\n",
       "      <th>wind_speed</th>\n",
       "      <th>timestamp</th>\n",
       "      <th>wind_direction_completo</th>\n",
       "      <th>wind_direction_grados</th>\n",
       "      <th>sky_condition_ingles</th>\n",
       "    </tr>\n",
       "  </thead>\n",
       "  <tbody>\n",
       "    <tr>\n",
       "      <th>0</th>\n",
       "      <td>18/02/2025</td>\n",
       "      <td>8</td>\n",
       "      <td>7</td>\n",
       "      <td>87</td>\n",
       "      <td>Nubes altas</td>\n",
       "      <td>NE</td>\n",
       "      <td>12</td>\n",
       "      <td>18/02/2025 17:16</td>\n",
       "      <td>northeast</td>\n",
       "      <td>45.0</td>\n",
       "      <td>high clouds</td>\n",
       "    </tr>\n",
       "    <tr>\n",
       "      <th>1</th>\n",
       "      <td>18/02/2025</td>\n",
       "      <td>9</td>\n",
       "      <td>8</td>\n",
       "      <td>80</td>\n",
       "      <td>Nubes altas</td>\n",
       "      <td>NE</td>\n",
       "      <td>11</td>\n",
       "      <td>18/02/2025 17:16</td>\n",
       "      <td>northeast</td>\n",
       "      <td>45.0</td>\n",
       "      <td>high clouds</td>\n",
       "    </tr>\n",
       "    <tr>\n",
       "      <th>2</th>\n",
       "      <td>18/02/2025</td>\n",
       "      <td>10</td>\n",
       "      <td>9</td>\n",
       "      <td>73</td>\n",
       "      <td>Nubes altas</td>\n",
       "      <td>NE</td>\n",
       "      <td>11</td>\n",
       "      <td>18/02/2025 17:16</td>\n",
       "      <td>northeast</td>\n",
       "      <td>45.0</td>\n",
       "      <td>high clouds</td>\n",
       "    </tr>\n",
       "    <tr>\n",
       "      <th>3</th>\n",
       "      <td>18/02/2025</td>\n",
       "      <td>11</td>\n",
       "      <td>10</td>\n",
       "      <td>65</td>\n",
       "      <td>Nubes altas</td>\n",
       "      <td>E</td>\n",
       "      <td>8</td>\n",
       "      <td>18/02/2025 17:16</td>\n",
       "      <td>east</td>\n",
       "      <td>90.0</td>\n",
       "      <td>high clouds</td>\n",
       "    </tr>\n",
       "    <tr>\n",
       "      <th>4</th>\n",
       "      <td>18/02/2025</td>\n",
       "      <td>12</td>\n",
       "      <td>12</td>\n",
       "      <td>58</td>\n",
       "      <td>Nubes altas</td>\n",
       "      <td>E</td>\n",
       "      <td>6</td>\n",
       "      <td>18/02/2025 17:16</td>\n",
       "      <td>east</td>\n",
       "      <td>90.0</td>\n",
       "      <td>high clouds</td>\n",
       "    </tr>\n",
       "  </tbody>\n",
       "</table>\n",
       "</div>"
      ],
      "text/plain": [
       "         date  hour  temperature  humidity sky_condition wind_direction  \\\n",
       "0  18/02/2025     8            7        87   Nubes altas             NE   \n",
       "1  18/02/2025     9            8        80   Nubes altas             NE   \n",
       "2  18/02/2025    10            9        73   Nubes altas             NE   \n",
       "3  18/02/2025    11           10        65   Nubes altas              E   \n",
       "4  18/02/2025    12           12        58   Nubes altas              E   \n",
       "\n",
       "   wind_speed         timestamp wind_direction_completo  \\\n",
       "0          12  18/02/2025 17:16               northeast   \n",
       "1          11  18/02/2025 17:16               northeast   \n",
       "2          11  18/02/2025 17:16               northeast   \n",
       "3           8  18/02/2025 17:16                    east   \n",
       "4           6  18/02/2025 17:16                    east   \n",
       "\n",
       "   wind_direction_grados sky_condition_ingles  \n",
       "0                   45.0          high clouds  \n",
       "1                   45.0          high clouds  \n",
       "2                   45.0          high clouds  \n",
       "3                   90.0          high clouds  \n",
       "4                   90.0          high clouds  "
      ]
     },
     "execution_count": 43,
     "metadata": {},
     "output_type": "execute_result"
    }
   ],
   "source": [
    "# 2.- Hacemos los diccionarios para cambiar los valores en español y fijar datos polares en la dirección del viento para mejorar el analisis\n",
    "#Creamos los diccionarios\n",
    "\n",
    "#Diccionario para los valores de la direccion del viento en inglés\n",
    "wind_direction_completo = {\n",
    "    \"N\":\"north\", \"NE\":\"northeast\", \"E\":\"east\", \"SE\":\"southeast\", \"S\":\"south\", \"SO\":\"southwest\", \"O\":\"west\", \"NO\":\"northwest\", \"C\":\"calm\"\n",
    "    }\n",
    "\n",
    "#Diccionario para la direccion del viento en grados polares\n",
    "#Los valores 'Calmados' en wind_direction_grados se han convertido en NaN intencionalmente, ya que representan la ausencia de viento y no deben confundirse con una dirección específica.\n",
    "wind_direction_grados = {\n",
    "    \"N\":0, \"NE\":45, \"E\":90, \"SE\":135, \"S\":180, \"SO\":225, \"O\":270, \"NO\":315, \"C\": np.nan\n",
    "    }\n",
    "\n",
    "#Diccionario para los valores de la condicion del cielo en inglés\n",
    "sky_condition_ingles = {\n",
    "    'Nubes altas': 'high clouds',\n",
    "    'Cubierto': 'overcast',\n",
    "    'Poco nuboso': 'few clouds',\n",
    "    'Nuboso': 'cloudy',\n",
    "    'Muy nuboso': 'very cloudy',\n",
    "    'Despejado': 'clear',\n",
    "    'Cubierto con lluvia escasa': 'overcast with light rain',\n",
    "    'Cubierto con lluvia': 'overcast with rain',\n",
    "    'Cubierto con tormenta y lluvia escasa': 'overcast with thunderstorm and light rain'\n",
    "}\n",
    "\n",
    "#Creamos las nuevas columnas\n",
    "\n",
    "df[\"wind_direction_completo\"] = df[\"wind_direction\"].map(wind_direction_completo)\n",
    "df[\"wind_direction_grados\"] = df[\"wind_direction\"].map(wind_direction_grados)\n",
    "df[\"sky_condition_ingles\"] = df[\"sky_condition\"].map(sky_condition_ingles)\n",
    "df.head()"
   ]
  },
  {
   "cell_type": "code",
   "execution_count": 44,
   "metadata": {
    "colab": {
     "base_uri": "https://localhost:8080/",
     "height": 206
    },
    "executionInfo": {
     "elapsed": 30,
     "status": "ok",
     "timestamp": 1742373143526,
     "user": {
      "displayName": "Leonardo Leal Vivas",
      "userId": "09547247894374016406"
     },
     "user_tz": -60
    },
    "id": "V5mdyFezJT0_",
    "outputId": "107fd7a3-bb07-47de-ffa6-bcf50d94577f"
   },
   "outputs": [
    {
     "data": {
      "text/html": [
       "<div>\n",
       "<style scoped>\n",
       "    .dataframe tbody tr th:only-of-type {\n",
       "        vertical-align: middle;\n",
       "    }\n",
       "\n",
       "    .dataframe tbody tr th {\n",
       "        vertical-align: top;\n",
       "    }\n",
       "\n",
       "    .dataframe thead th {\n",
       "        text-align: right;\n",
       "    }\n",
       "</style>\n",
       "<table border=\"1\" class=\"dataframe\">\n",
       "  <thead>\n",
       "    <tr style=\"text-align: right;\">\n",
       "      <th></th>\n",
       "      <th>date</th>\n",
       "      <th>hour</th>\n",
       "      <th>temperature</th>\n",
       "      <th>humidity</th>\n",
       "      <th>wind_speed</th>\n",
       "      <th>wind_direction_completo</th>\n",
       "      <th>wind_direction_grados</th>\n",
       "      <th>sky_condition_ingles</th>\n",
       "    </tr>\n",
       "  </thead>\n",
       "  <tbody>\n",
       "    <tr>\n",
       "      <th>0</th>\n",
       "      <td>18/02/2025</td>\n",
       "      <td>8</td>\n",
       "      <td>7</td>\n",
       "      <td>87</td>\n",
       "      <td>12</td>\n",
       "      <td>northeast</td>\n",
       "      <td>45.0</td>\n",
       "      <td>high clouds</td>\n",
       "    </tr>\n",
       "    <tr>\n",
       "      <th>1</th>\n",
       "      <td>18/02/2025</td>\n",
       "      <td>9</td>\n",
       "      <td>8</td>\n",
       "      <td>80</td>\n",
       "      <td>11</td>\n",
       "      <td>northeast</td>\n",
       "      <td>45.0</td>\n",
       "      <td>high clouds</td>\n",
       "    </tr>\n",
       "    <tr>\n",
       "      <th>2</th>\n",
       "      <td>18/02/2025</td>\n",
       "      <td>10</td>\n",
       "      <td>9</td>\n",
       "      <td>73</td>\n",
       "      <td>11</td>\n",
       "      <td>northeast</td>\n",
       "      <td>45.0</td>\n",
       "      <td>high clouds</td>\n",
       "    </tr>\n",
       "    <tr>\n",
       "      <th>3</th>\n",
       "      <td>18/02/2025</td>\n",
       "      <td>11</td>\n",
       "      <td>10</td>\n",
       "      <td>65</td>\n",
       "      <td>8</td>\n",
       "      <td>east</td>\n",
       "      <td>90.0</td>\n",
       "      <td>high clouds</td>\n",
       "    </tr>\n",
       "    <tr>\n",
       "      <th>4</th>\n",
       "      <td>18/02/2025</td>\n",
       "      <td>12</td>\n",
       "      <td>12</td>\n",
       "      <td>58</td>\n",
       "      <td>6</td>\n",
       "      <td>east</td>\n",
       "      <td>90.0</td>\n",
       "      <td>high clouds</td>\n",
       "    </tr>\n",
       "  </tbody>\n",
       "</table>\n",
       "</div>"
      ],
      "text/plain": [
       "         date  hour  temperature  humidity  wind_speed  \\\n",
       "0  18/02/2025     8            7        87          12   \n",
       "1  18/02/2025     9            8        80          11   \n",
       "2  18/02/2025    10            9        73          11   \n",
       "3  18/02/2025    11           10        65           8   \n",
       "4  18/02/2025    12           12        58           6   \n",
       "\n",
       "  wind_direction_completo  wind_direction_grados sky_condition_ingles  \n",
       "0               northeast                   45.0          high clouds  \n",
       "1               northeast                   45.0          high clouds  \n",
       "2               northeast                   45.0          high clouds  \n",
       "3                    east                   90.0          high clouds  \n",
       "4                    east                   90.0          high clouds  "
      ]
     },
     "execution_count": 44,
     "metadata": {},
     "output_type": "execute_result"
    }
   ],
   "source": [
    "#Ahora que tenemos columnas traducidas eliminaremos las columnas que no son necesarias\n",
    "\n",
    "# Eliminaremos timestamp porque se trata de la hora en la que el script de Python recolectó la información del clima a través de la API.\n",
    "\n",
    "df.drop([\"wind_direction\", \"sky_condition\",\"timestamp\"], axis=1, inplace=True)\n",
    "df.head()"
   ]
  },
  {
   "cell_type": "code",
   "execution_count": 45,
   "metadata": {
    "colab": {
     "base_uri": "https://localhost:8080/",
     "height": 335
    },
    "executionInfo": {
     "elapsed": 15,
     "status": "ok",
     "timestamp": 1742373146582,
     "user": {
      "displayName": "Leonardo Leal Vivas",
      "userId": "09547247894374016406"
     },
     "user_tz": -60
    },
    "id": "1RXpuZpuJm5s",
    "outputId": "cbfb30a4-95d1-4070-f4ba-7a8fadf6ebaf"
   },
   "outputs": [
    {
     "data": {
      "text/plain": [
       "date                        object\n",
       "hour                         int64\n",
       "temperature                  int64\n",
       "humidity                     int64\n",
       "wind_speed                   int64\n",
       "wind_direction_completo     object\n",
       "wind_direction_grados      float64\n",
       "sky_condition_ingles        object\n",
       "dtype: object"
      ]
     },
     "execution_count": 45,
     "metadata": {},
     "output_type": "execute_result"
    }
   ],
   "source": [
    "#También unificaremos la columna date y la columna hour para crear la columna datetime\n",
    "#1.- vemos el formato de las columnas\n",
    "df.dtypes"
   ]
  },
  {
   "cell_type": "code",
   "execution_count": 46,
   "metadata": {
    "colab": {
     "base_uri": "https://localhost:8080/",
     "height": 335
    },
    "executionInfo": {
     "elapsed": 4,
     "status": "ok",
     "timestamp": 1742373148546,
     "user": {
      "displayName": "Leonardo Leal Vivas",
      "userId": "09547247894374016406"
     },
     "user_tz": -60
    },
    "id": "8QHcVnjHJ2aw",
    "outputId": "d5c268da-f035-4757-861c-b99a726452f2"
   },
   "outputs": [
    {
     "data": {
      "text/plain": [
       "date                       datetime64[ns]\n",
       "hour                               object\n",
       "temperature                       float64\n",
       "humidity                          float64\n",
       "wind_speed                        float64\n",
       "wind_direction_completo            object\n",
       "wind_direction_grados             float64\n",
       "sky_condition_ingles               object\n",
       "dtype: object"
      ]
     },
     "execution_count": 46,
     "metadata": {},
     "output_type": "execute_result"
    }
   ],
   "source": [
    "#2.- Hacemos las transformaciones necesarias.\n",
    "df['date'] = pd.to_datetime(df['date'], dayfirst=True)\n",
    "df['hour'] = df['hour'].astype(str).str.zfill(2) + ':00'\n",
    "df[\"temperature\"] = df[\"temperature\"].astype(float)\n",
    "df[\"humidity\"] = df[\"humidity\"].astype(float)\n",
    "df[\"wind_speed\"] = df[\"wind_speed\"].astype(float)\n",
    "df[\"wind_direction_grados\"] = df[\"wind_direction_grados\"].astype(float)\n",
    "df.dtypes"
   ]
  },
  {
   "cell_type": "code",
   "execution_count": 47,
   "metadata": {
    "colab": {
     "base_uri": "https://localhost:8080/",
     "height": 206
    },
    "executionInfo": {
     "elapsed": 25,
     "status": "ok",
     "timestamp": 1742373150625,
     "user": {
      "displayName": "Leonardo Leal Vivas",
      "userId": "09547247894374016406"
     },
     "user_tz": -60
    },
    "id": "X9R85UcL_j9W",
    "outputId": "68eb55b4-34b5-4475-8584-c7da7dc17b25"
   },
   "outputs": [
    {
     "data": {
      "text/html": [
       "<div>\n",
       "<style scoped>\n",
       "    .dataframe tbody tr th:only-of-type {\n",
       "        vertical-align: middle;\n",
       "    }\n",
       "\n",
       "    .dataframe tbody tr th {\n",
       "        vertical-align: top;\n",
       "    }\n",
       "\n",
       "    .dataframe thead th {\n",
       "        text-align: right;\n",
       "    }\n",
       "</style>\n",
       "<table border=\"1\" class=\"dataframe\">\n",
       "  <thead>\n",
       "    <tr style=\"text-align: right;\">\n",
       "      <th></th>\n",
       "      <th>date</th>\n",
       "      <th>hour</th>\n",
       "      <th>temperature</th>\n",
       "      <th>humidity</th>\n",
       "      <th>wind_speed</th>\n",
       "      <th>wind_direction_completo</th>\n",
       "      <th>wind_direction_grados</th>\n",
       "      <th>sky_condition_ingles</th>\n",
       "    </tr>\n",
       "  </thead>\n",
       "  <tbody>\n",
       "    <tr>\n",
       "      <th>0</th>\n",
       "      <td>2025-02-18</td>\n",
       "      <td>08:00</td>\n",
       "      <td>7.0</td>\n",
       "      <td>87.0</td>\n",
       "      <td>12.0</td>\n",
       "      <td>northeast</td>\n",
       "      <td>45.0</td>\n",
       "      <td>high clouds</td>\n",
       "    </tr>\n",
       "    <tr>\n",
       "      <th>1</th>\n",
       "      <td>2025-02-18</td>\n",
       "      <td>09:00</td>\n",
       "      <td>8.0</td>\n",
       "      <td>80.0</td>\n",
       "      <td>11.0</td>\n",
       "      <td>northeast</td>\n",
       "      <td>45.0</td>\n",
       "      <td>high clouds</td>\n",
       "    </tr>\n",
       "    <tr>\n",
       "      <th>2</th>\n",
       "      <td>2025-02-18</td>\n",
       "      <td>10:00</td>\n",
       "      <td>9.0</td>\n",
       "      <td>73.0</td>\n",
       "      <td>11.0</td>\n",
       "      <td>northeast</td>\n",
       "      <td>45.0</td>\n",
       "      <td>high clouds</td>\n",
       "    </tr>\n",
       "    <tr>\n",
       "      <th>3</th>\n",
       "      <td>2025-02-18</td>\n",
       "      <td>11:00</td>\n",
       "      <td>10.0</td>\n",
       "      <td>65.0</td>\n",
       "      <td>8.0</td>\n",
       "      <td>east</td>\n",
       "      <td>90.0</td>\n",
       "      <td>high clouds</td>\n",
       "    </tr>\n",
       "    <tr>\n",
       "      <th>4</th>\n",
       "      <td>2025-02-18</td>\n",
       "      <td>12:00</td>\n",
       "      <td>12.0</td>\n",
       "      <td>58.0</td>\n",
       "      <td>6.0</td>\n",
       "      <td>east</td>\n",
       "      <td>90.0</td>\n",
       "      <td>high clouds</td>\n",
       "    </tr>\n",
       "  </tbody>\n",
       "</table>\n",
       "</div>"
      ],
      "text/plain": [
       "        date   hour  temperature  humidity  wind_speed  \\\n",
       "0 2025-02-18  08:00          7.0      87.0        12.0   \n",
       "1 2025-02-18  09:00          8.0      80.0        11.0   \n",
       "2 2025-02-18  10:00          9.0      73.0        11.0   \n",
       "3 2025-02-18  11:00         10.0      65.0         8.0   \n",
       "4 2025-02-18  12:00         12.0      58.0         6.0   \n",
       "\n",
       "  wind_direction_completo  wind_direction_grados sky_condition_ingles  \n",
       "0               northeast                   45.0          high clouds  \n",
       "1               northeast                   45.0          high clouds  \n",
       "2               northeast                   45.0          high clouds  \n",
       "3                    east                   90.0          high clouds  \n",
       "4                    east                   90.0          high clouds  "
      ]
     },
     "execution_count": 47,
     "metadata": {},
     "output_type": "execute_result"
    }
   ],
   "source": [
    "df.head()"
   ]
  },
  {
   "cell_type": "code",
   "execution_count": 48,
   "metadata": {
    "colab": {
     "base_uri": "https://localhost:8080/"
    },
    "executionInfo": {
     "elapsed": 11,
     "status": "ok",
     "timestamp": 1742373152518,
     "user": {
      "displayName": "Leonardo Leal Vivas",
      "userId": "09547247894374016406"
     },
     "user_tz": -60
    },
    "id": "pUnYYWu5KAVS",
    "outputId": "a28ab1c7-0235-4aee-c1f7-48e8c49bd3bf"
   },
   "outputs": [
    {
     "name": "stdout",
     "output_type": "stream",
     "text": [
      "0   2025-02-18 08:00:00\n",
      "1   2025-02-18 09:00:00\n",
      "2   2025-02-18 10:00:00\n",
      "3   2025-02-18 11:00:00\n",
      "4   2025-02-18 12:00:00\n",
      "Name: datetime, dtype: datetime64[ns]\n",
      "datetime64[ns]\n"
     ]
    }
   ],
   "source": [
    "#3.- Unificamos las columnas date y hour\n",
    "df['datetime'] = pd.to_datetime(df['date'].astype(str) + ' ' + df['hour'].astype(str))\n",
    "df.head()\n",
    "\n",
    "# 4. Verifica el resultado\n",
    "print(df['datetime'].head())\n",
    "print(df['datetime'].dtypes)"
   ]
  },
  {
   "cell_type": "code",
   "execution_count": 49,
   "metadata": {
    "colab": {
     "base_uri": "https://localhost:8080/",
     "height": 206
    },
    "executionInfo": {
     "elapsed": 20,
     "status": "ok",
     "timestamp": 1742373156336,
     "user": {
      "displayName": "Leonardo Leal Vivas",
      "userId": "09547247894374016406"
     },
     "user_tz": -60
    },
    "id": "-lu6i7SQKPIN",
    "outputId": "db188836-b865-4296-ede3-1a9e45585ac5"
   },
   "outputs": [
    {
     "data": {
      "text/html": [
       "<div>\n",
       "<style scoped>\n",
       "    .dataframe tbody tr th:only-of-type {\n",
       "        vertical-align: middle;\n",
       "    }\n",
       "\n",
       "    .dataframe tbody tr th {\n",
       "        vertical-align: top;\n",
       "    }\n",
       "\n",
       "    .dataframe thead th {\n",
       "        text-align: right;\n",
       "    }\n",
       "</style>\n",
       "<table border=\"1\" class=\"dataframe\">\n",
       "  <thead>\n",
       "    <tr style=\"text-align: right;\">\n",
       "      <th></th>\n",
       "      <th>temperature</th>\n",
       "      <th>humidity</th>\n",
       "      <th>wind_speed</th>\n",
       "      <th>wind_direction_completo</th>\n",
       "      <th>wind_direction_grados</th>\n",
       "      <th>sky_condition_ingles</th>\n",
       "      <th>datetime</th>\n",
       "    </tr>\n",
       "  </thead>\n",
       "  <tbody>\n",
       "    <tr>\n",
       "      <th>0</th>\n",
       "      <td>7.0</td>\n",
       "      <td>87.0</td>\n",
       "      <td>12.0</td>\n",
       "      <td>northeast</td>\n",
       "      <td>45.0</td>\n",
       "      <td>high clouds</td>\n",
       "      <td>2025-02-18 08:00:00</td>\n",
       "    </tr>\n",
       "    <tr>\n",
       "      <th>1</th>\n",
       "      <td>8.0</td>\n",
       "      <td>80.0</td>\n",
       "      <td>11.0</td>\n",
       "      <td>northeast</td>\n",
       "      <td>45.0</td>\n",
       "      <td>high clouds</td>\n",
       "      <td>2025-02-18 09:00:00</td>\n",
       "    </tr>\n",
       "    <tr>\n",
       "      <th>2</th>\n",
       "      <td>9.0</td>\n",
       "      <td>73.0</td>\n",
       "      <td>11.0</td>\n",
       "      <td>northeast</td>\n",
       "      <td>45.0</td>\n",
       "      <td>high clouds</td>\n",
       "      <td>2025-02-18 10:00:00</td>\n",
       "    </tr>\n",
       "    <tr>\n",
       "      <th>3</th>\n",
       "      <td>10.0</td>\n",
       "      <td>65.0</td>\n",
       "      <td>8.0</td>\n",
       "      <td>east</td>\n",
       "      <td>90.0</td>\n",
       "      <td>high clouds</td>\n",
       "      <td>2025-02-18 11:00:00</td>\n",
       "    </tr>\n",
       "    <tr>\n",
       "      <th>4</th>\n",
       "      <td>12.0</td>\n",
       "      <td>58.0</td>\n",
       "      <td>6.0</td>\n",
       "      <td>east</td>\n",
       "      <td>90.0</td>\n",
       "      <td>high clouds</td>\n",
       "      <td>2025-02-18 12:00:00</td>\n",
       "    </tr>\n",
       "  </tbody>\n",
       "</table>\n",
       "</div>"
      ],
      "text/plain": [
       "   temperature  humidity  wind_speed wind_direction_completo  \\\n",
       "0          7.0      87.0        12.0               northeast   \n",
       "1          8.0      80.0        11.0               northeast   \n",
       "2          9.0      73.0        11.0               northeast   \n",
       "3         10.0      65.0         8.0                    east   \n",
       "4         12.0      58.0         6.0                    east   \n",
       "\n",
       "   wind_direction_grados sky_condition_ingles            datetime  \n",
       "0                   45.0          high clouds 2025-02-18 08:00:00  \n",
       "1                   45.0          high clouds 2025-02-18 09:00:00  \n",
       "2                   45.0          high clouds 2025-02-18 10:00:00  \n",
       "3                   90.0          high clouds 2025-02-18 11:00:00  \n",
       "4                   90.0          high clouds 2025-02-18 12:00:00  "
      ]
     },
     "execution_count": 49,
     "metadata": {},
     "output_type": "execute_result"
    }
   ],
   "source": [
    "#4.- Eliminamos las columnas date y hour ya que no son utiles\n",
    "df.drop(columns=[\"date\", \"hour\"], inplace=True)\n",
    "df.head()"
   ]
  },
  {
   "cell_type": "code",
   "execution_count": 50,
   "metadata": {
    "colab": {
     "base_uri": "https://localhost:8080/",
     "height": 206
    },
    "executionInfo": {
     "elapsed": 68,
     "status": "ok",
     "timestamp": 1742373158785,
     "user": {
      "displayName": "Leonardo Leal Vivas",
      "userId": "09547247894374016406"
     },
     "user_tz": -60
    },
    "id": "bS2V6MlLKYXk",
    "outputId": "7b14764b-a89f-4398-e792-ba01683ad1bb"
   },
   "outputs": [
    {
     "data": {
      "text/html": [
       "<div>\n",
       "<style scoped>\n",
       "    .dataframe tbody tr th:only-of-type {\n",
       "        vertical-align: middle;\n",
       "    }\n",
       "\n",
       "    .dataframe tbody tr th {\n",
       "        vertical-align: top;\n",
       "    }\n",
       "\n",
       "    .dataframe thead th {\n",
       "        text-align: right;\n",
       "    }\n",
       "</style>\n",
       "<table border=\"1\" class=\"dataframe\">\n",
       "  <thead>\n",
       "    <tr style=\"text-align: right;\">\n",
       "      <th></th>\n",
       "      <th>datetime</th>\n",
       "      <th>temperature</th>\n",
       "      <th>humidity</th>\n",
       "      <th>wind_speed</th>\n",
       "      <th>wind_direction_completo</th>\n",
       "      <th>wind_direction_grados</th>\n",
       "      <th>sky_condition_ingles</th>\n",
       "    </tr>\n",
       "  </thead>\n",
       "  <tbody>\n",
       "    <tr>\n",
       "      <th>0</th>\n",
       "      <td>2025-02-18 08:00:00</td>\n",
       "      <td>7.0</td>\n",
       "      <td>87.0</td>\n",
       "      <td>12.0</td>\n",
       "      <td>northeast</td>\n",
       "      <td>45.0</td>\n",
       "      <td>high clouds</td>\n",
       "    </tr>\n",
       "    <tr>\n",
       "      <th>1</th>\n",
       "      <td>2025-02-18 09:00:00</td>\n",
       "      <td>8.0</td>\n",
       "      <td>80.0</td>\n",
       "      <td>11.0</td>\n",
       "      <td>northeast</td>\n",
       "      <td>45.0</td>\n",
       "      <td>high clouds</td>\n",
       "    </tr>\n",
       "    <tr>\n",
       "      <th>2</th>\n",
       "      <td>2025-02-18 10:00:00</td>\n",
       "      <td>9.0</td>\n",
       "      <td>73.0</td>\n",
       "      <td>11.0</td>\n",
       "      <td>northeast</td>\n",
       "      <td>45.0</td>\n",
       "      <td>high clouds</td>\n",
       "    </tr>\n",
       "    <tr>\n",
       "      <th>3</th>\n",
       "      <td>2025-02-18 11:00:00</td>\n",
       "      <td>10.0</td>\n",
       "      <td>65.0</td>\n",
       "      <td>8.0</td>\n",
       "      <td>east</td>\n",
       "      <td>90.0</td>\n",
       "      <td>high clouds</td>\n",
       "    </tr>\n",
       "    <tr>\n",
       "      <th>4</th>\n",
       "      <td>2025-02-18 12:00:00</td>\n",
       "      <td>12.0</td>\n",
       "      <td>58.0</td>\n",
       "      <td>6.0</td>\n",
       "      <td>east</td>\n",
       "      <td>90.0</td>\n",
       "      <td>high clouds</td>\n",
       "    </tr>\n",
       "  </tbody>\n",
       "</table>\n",
       "</div>"
      ],
      "text/plain": [
       "             datetime  temperature  humidity  wind_speed  \\\n",
       "0 2025-02-18 08:00:00          7.0      87.0        12.0   \n",
       "1 2025-02-18 09:00:00          8.0      80.0        11.0   \n",
       "2 2025-02-18 10:00:00          9.0      73.0        11.0   \n",
       "3 2025-02-18 11:00:00         10.0      65.0         8.0   \n",
       "4 2025-02-18 12:00:00         12.0      58.0         6.0   \n",
       "\n",
       "  wind_direction_completo  wind_direction_grados sky_condition_ingles  \n",
       "0               northeast                   45.0          high clouds  \n",
       "1               northeast                   45.0          high clouds  \n",
       "2               northeast                   45.0          high clouds  \n",
       "3                    east                   90.0          high clouds  \n",
       "4                    east                   90.0          high clouds  "
      ]
     },
     "execution_count": 50,
     "metadata": {},
     "output_type": "execute_result"
    }
   ],
   "source": [
    "#5.- Movemos la columna datetime hasta el extremo izquierdo\n",
    "new_datetime = df.pop(\"datetime\")\n",
    "df.insert(0, \"datetime\", new_datetime)\n",
    "df.head()"
   ]
  },
  {
   "cell_type": "code",
   "execution_count": 51,
   "metadata": {
    "colab": {
     "base_uri": "https://localhost:8080/",
     "height": 206
    },
    "executionInfo": {
     "elapsed": 22,
     "status": "ok",
     "timestamp": 1742373160862,
     "user": {
      "displayName": "Leonardo Leal Vivas",
      "userId": "09547247894374016406"
     },
     "user_tz": -60
    },
    "id": "Z5kDwY8cK4RW",
    "outputId": "c65d77d3-3217-42f8-8809-86b60fd04fd5"
   },
   "outputs": [
    {
     "data": {
      "text/html": [
       "<div>\n",
       "<style scoped>\n",
       "    .dataframe tbody tr th:only-of-type {\n",
       "        vertical-align: middle;\n",
       "    }\n",
       "\n",
       "    .dataframe tbody tr th {\n",
       "        vertical-align: top;\n",
       "    }\n",
       "\n",
       "    .dataframe thead th {\n",
       "        text-align: right;\n",
       "    }\n",
       "</style>\n",
       "<table border=\"1\" class=\"dataframe\">\n",
       "  <thead>\n",
       "    <tr style=\"text-align: right;\">\n",
       "      <th></th>\n",
       "      <th>datetime</th>\n",
       "      <th>temperature</th>\n",
       "      <th>humidity</th>\n",
       "      <th>wind_speed</th>\n",
       "      <th>wind_direction</th>\n",
       "      <th>wind_direction_degrees</th>\n",
       "      <th>sky_condition</th>\n",
       "    </tr>\n",
       "  </thead>\n",
       "  <tbody>\n",
       "    <tr>\n",
       "      <th>0</th>\n",
       "      <td>2025-02-18 08:00:00</td>\n",
       "      <td>7.0</td>\n",
       "      <td>87.0</td>\n",
       "      <td>12.0</td>\n",
       "      <td>northeast</td>\n",
       "      <td>45.0</td>\n",
       "      <td>high clouds</td>\n",
       "    </tr>\n",
       "    <tr>\n",
       "      <th>1</th>\n",
       "      <td>2025-02-18 09:00:00</td>\n",
       "      <td>8.0</td>\n",
       "      <td>80.0</td>\n",
       "      <td>11.0</td>\n",
       "      <td>northeast</td>\n",
       "      <td>45.0</td>\n",
       "      <td>high clouds</td>\n",
       "    </tr>\n",
       "    <tr>\n",
       "      <th>2</th>\n",
       "      <td>2025-02-18 10:00:00</td>\n",
       "      <td>9.0</td>\n",
       "      <td>73.0</td>\n",
       "      <td>11.0</td>\n",
       "      <td>northeast</td>\n",
       "      <td>45.0</td>\n",
       "      <td>high clouds</td>\n",
       "    </tr>\n",
       "    <tr>\n",
       "      <th>3</th>\n",
       "      <td>2025-02-18 11:00:00</td>\n",
       "      <td>10.0</td>\n",
       "      <td>65.0</td>\n",
       "      <td>8.0</td>\n",
       "      <td>east</td>\n",
       "      <td>90.0</td>\n",
       "      <td>high clouds</td>\n",
       "    </tr>\n",
       "    <tr>\n",
       "      <th>4</th>\n",
       "      <td>2025-02-18 12:00:00</td>\n",
       "      <td>12.0</td>\n",
       "      <td>58.0</td>\n",
       "      <td>6.0</td>\n",
       "      <td>east</td>\n",
       "      <td>90.0</td>\n",
       "      <td>high clouds</td>\n",
       "    </tr>\n",
       "  </tbody>\n",
       "</table>\n",
       "</div>"
      ],
      "text/plain": [
       "             datetime  temperature  humidity  wind_speed wind_direction  \\\n",
       "0 2025-02-18 08:00:00          7.0      87.0        12.0      northeast   \n",
       "1 2025-02-18 09:00:00          8.0      80.0        11.0      northeast   \n",
       "2 2025-02-18 10:00:00          9.0      73.0        11.0      northeast   \n",
       "3 2025-02-18 11:00:00         10.0      65.0         8.0           east   \n",
       "4 2025-02-18 12:00:00         12.0      58.0         6.0           east   \n",
       "\n",
       "   wind_direction_degrees sky_condition  \n",
       "0                    45.0   high clouds  \n",
       "1                    45.0   high clouds  \n",
       "2                    45.0   high clouds  \n",
       "3                    90.0   high clouds  \n",
       "4                    90.0   high clouds  "
      ]
     },
     "execution_count": 51,
     "metadata": {},
     "output_type": "execute_result"
    }
   ],
   "source": [
    "#Normalizamos el nombre de las columnas\n",
    "df.columns = df.columns.str.lower()\n",
    "df.rename(columns={'sky_condition_ingles': 'sky_condition'}, inplace=True)\n",
    "df.rename(columns={'wind_direction_grados': 'wind_direction_degrees'}, inplace=True)\n",
    "df.rename(columns={'wind_direction_completo': 'wind_direction'}, inplace=True)\n",
    "df.head()"
   ]
  },
  {
   "cell_type": "markdown",
   "metadata": {
    "id": "XAjb84pxQKm9"
   },
   "source": [
    "LIMPIEZA DE DATOS"
   ]
  },
  {
   "cell_type": "code",
   "execution_count": 52,
   "metadata": {
    "colab": {
     "base_uri": "https://localhost:8080/"
    },
    "executionInfo": {
     "elapsed": 5,
     "status": "ok",
     "timestamp": 1742373171922,
     "user": {
      "displayName": "Leonardo Leal Vivas",
      "userId": "09547247894374016406"
     },
     "user_tz": -60
    },
    "id": "6DDWj8IcQMfd",
    "outputId": "22cecaa7-8c94-4fd2-f491-a444c453b2bb"
   },
   "outputs": [
    {
     "name": "stdout",
     "output_type": "stream",
     "text": [
      "Index(['datetime', 'temperature', 'humidity', 'wind_speed', 'wind_direction',\n",
      "       'wind_direction_degrees', 'sky_condition'],\n",
      "      dtype='object')\n"
     ]
    }
   ],
   "source": [
    "#Vemos las columnas\n",
    "print(df.columns)"
   ]
  },
  {
   "cell_type": "code",
   "execution_count": 53,
   "metadata": {
    "colab": {
     "base_uri": "https://localhost:8080/"
    },
    "executionInfo": {
     "elapsed": 7,
     "status": "ok",
     "timestamp": 1742373173456,
     "user": {
      "displayName": "Leonardo Leal Vivas",
      "userId": "09547247894374016406"
     },
     "user_tz": -60
    },
    "id": "7TeQ1dlhQP94",
    "outputId": "57dd8491-84c9-4691-b693-34c2c9e33422"
   },
   "outputs": [
    {
     "name": "stdout",
     "output_type": "stream",
     "text": [
      "datetime                  datetime64[ns]\n",
      "temperature                      float64\n",
      "humidity                         float64\n",
      "wind_speed                       float64\n",
      "wind_direction                    object\n",
      "wind_direction_degrees           float64\n",
      "sky_condition                     object\n",
      "dtype: object\n"
     ]
    }
   ],
   "source": [
    "#Vemos los tipos de datos\n",
    "print(df.dtypes)"
   ]
  },
  {
   "cell_type": "code",
   "execution_count": 54,
   "metadata": {
    "colab": {
     "base_uri": "https://localhost:8080/"
    },
    "executionInfo": {
     "elapsed": 15,
     "status": "ok",
     "timestamp": 1742373174441,
     "user": {
      "displayName": "Leonardo Leal Vivas",
      "userId": "09547247894374016406"
     },
     "user_tz": -60
    },
    "id": "KXKoWg1DQSQQ",
    "outputId": "49dcda5d-59b3-4134-eab3-5c2fdfb79faa"
   },
   "outputs": [
    {
     "name": "stdout",
     "output_type": "stream",
     "text": [
      "                  datetime  temperature    humidity  wind_speed  \\\n",
      "count                  413   413.000000  413.000000  413.000000   \n",
      "mean   2025-02-26 22:00:00     9.905569   71.387409   11.193705   \n",
      "min    2025-02-18 08:00:00     3.000000   34.000000    0.000000   \n",
      "25%    2025-02-22 15:00:00     8.000000   59.000000    7.000000   \n",
      "50%    2025-02-26 22:00:00    10.000000   75.000000   11.000000   \n",
      "75%    2025-03-03 05:00:00    12.000000   85.000000   15.000000   \n",
      "max    2025-03-07 12:00:00    17.000000   99.000000   28.000000   \n",
      "std                    NaN     3.039113   16.137306    5.348193   \n",
      "\n",
      "       wind_direction_degrees  \n",
      "count              411.000000  \n",
      "mean               119.343066  \n",
      "min                  0.000000  \n",
      "25%                 45.000000  \n",
      "50%                 90.000000  \n",
      "75%                225.000000  \n",
      "max                315.000000  \n",
      "std                 91.718985  \n"
     ]
    }
   ],
   "source": [
    "#Detectar si hay valores que no tienen sentido y pueden afectar al analisis\n",
    "#1 DESCRIBE\n",
    "print(df.describe())"
   ]
  },
  {
   "cell_type": "code",
   "execution_count": 55,
   "metadata": {
    "colab": {
     "base_uri": "https://localhost:8080/",
     "height": 304
    },
    "executionInfo": {
     "elapsed": 5,
     "status": "ok",
     "timestamp": 1742373182218,
     "user": {
      "displayName": "Leonardo Leal Vivas",
      "userId": "09547247894374016406"
     },
     "user_tz": -60
    },
    "id": "G1d0zEyGQ12U",
    "outputId": "21cb8660-4d9d-477e-b6b1-446de4819af7"
   },
   "outputs": [
    {
     "data": {
      "text/plain": [
       "datetime                  0\n",
       "temperature               0\n",
       "humidity                  0\n",
       "wind_speed                0\n",
       "wind_direction            0\n",
       "wind_direction_degrees    2\n",
       "sky_condition             0\n",
       "dtype: int64"
      ]
     },
     "execution_count": 55,
     "metadata": {},
     "output_type": "execute_result"
    }
   ],
   "source": [
    "#Verifico si quedaron valores nulos\n",
    "#Deberían quedar valores nulos en wind_direction_degrees ya que \"calm\" en grados polares puede ser 0 grados o 360 grados, por lo que he decidido manejarlo como nulo\n",
    "'''En sistemas meteorológicos y en datos de estaciones meteorológicas, el valor 0° (o a veces 360°) se utiliza convencionalmente para representar la condición de \"calmado\".\n",
    "Esto no indica una dirección real, sino que es una convención para señalar que no hay viento o que la dirección no es aplicable.'''\n",
    "df.isnull().sum()"
   ]
  },
  {
   "cell_type": "code",
   "execution_count": 56,
   "metadata": {
    "colab": {
     "base_uri": "https://localhost:8080/"
    },
    "executionInfo": {
     "elapsed": 5,
     "status": "ok",
     "timestamp": 1742373186918,
     "user": {
      "displayName": "Leonardo Leal Vivas",
      "userId": "09547247894374016406"
     },
     "user_tz": -60
    },
    "id": "llBAzF5hRJ18",
    "outputId": "02d617f3-65f8-4be6-b5fd-14a733d73af2"
   },
   "outputs": [
    {
     "name": "stdout",
     "output_type": "stream",
     "text": [
      "['with wind' 'calm']\n"
     ]
    }
   ],
   "source": [
    "#Como solución puedo crear una nueva columna que fije la condición del viento a \"with_wind\"(con viento) y \"calm\"(calmado) y proceder a hacer la verificación\n",
    "df[\"wind_status\"] = df[\"wind_direction_degrees\"].apply(lambda x: \"calm\" if pd.isna(x) else \"with wind\")\n",
    "print(df[\"wind_status\"].unique())"
   ]
  },
  {
   "cell_type": "code",
   "execution_count": 57,
   "metadata": {
    "colab": {
     "base_uri": "https://localhost:8080/"
    },
    "executionInfo": {
     "elapsed": 10,
     "status": "ok",
     "timestamp": 1742373188722,
     "user": {
      "displayName": "Leonardo Leal Vivas",
      "userId": "09547247894374016406"
     },
     "user_tz": -60
    },
    "id": "vQOM_F1JRtqO",
    "outputId": "5c67ad8f-7c0d-4445-b2bc-5a22d5b6b411"
   },
   "outputs": [
    {
     "name": "stdout",
     "output_type": "stream",
     "text": [
      "               datetime  temperature  humidity  wind_speed wind_direction  \\\n",
      "208 2025-02-27 00:00:00          8.0      52.0         0.0           calm   \n",
      "221 2025-02-27 13:00:00         10.0      67.0         0.0           calm   \n",
      "\n",
      "     wind_direction_degrees sky_condition wind_status  \n",
      "208                     NaN   high clouds        calm  \n",
      "221                     NaN         clear        calm  \n"
     ]
    }
   ],
   "source": [
    "#Hacemos la verificación del wind_status, anclandolo con las demas columnas que tienen información del viento\n",
    "print(df[df['wind_status'] == 'calm'])\n",
    "#Claramente se ven los dos valores nulos que se presentan en el DF, verificando que tienen un estado del viento calmado."
   ]
  },
  {
   "cell_type": "code",
   "execution_count": 58,
   "metadata": {
    "colab": {
     "base_uri": "https://localhost:8080/"
    },
    "executionInfo": {
     "elapsed": 3,
     "status": "ok",
     "timestamp": 1742373190180,
     "user": {
      "displayName": "Leonardo Leal Vivas",
      "userId": "09547247894374016406"
     },
     "user_tz": -60
    },
    "id": "J53qT2FvSA1i",
    "outputId": "ae68201e-9a20-419c-87a9-cedce8bdc98d"
   },
   "outputs": [
    {
     "name": "stdout",
     "output_type": "stream",
     "text": [
      "No se encontraron valores atípicos.\n"
     ]
    }
   ],
   "source": [
    "#Verificar si hay valores outliers\n",
    "df_outliers = df[\n",
    "    (df[\"temperature\"] < -10) | (df[\"temperature\"] > 50) |  # Valores poco comunes en Madrid\n",
    "    (df[\"humidity\"] < 0) | (df[\"humidity\"] > 100) |\n",
    "    (df[\"wind_speed\"] < 0)  # Velocidades negativas no son válidas\n",
    "]\n",
    "\n",
    "if df_outliers.empty:\n",
    "    print(\"No se encontraron valores atípicos.\")\n",
    "else:\n",
    "    print(\"Valores atípicos encontrados:\")\n",
    "    print(df_outliers)"
   ]
  },
  {
   "cell_type": "code",
   "execution_count": 59,
   "metadata": {
    "colab": {
     "base_uri": "https://localhost:8080/"
    },
    "executionInfo": {
     "elapsed": 4,
     "status": "ok",
     "timestamp": 1741693472375,
     "user": {
      "displayName": "Leonardo Leal Vivas",
      "userId": "09547247894374016406"
     },
     "user_tz": -60
    },
    "id": "uw7WxxJQa3R7",
    "outputId": "a0f02978-1107-4ad5-ee0d-5527e8bd6384"
   },
   "outputs": [
    {
     "name": "stdout",
     "output_type": "stream",
     "text": [
      "datetime\n",
      "2025-02-18 08:00:00    1\n",
      "2025-02-18 09:00:00    1\n",
      "2025-02-18 10:00:00    1\n",
      "2025-02-18 11:00:00    1\n",
      "2025-02-18 12:00:00    1\n",
      "                      ..\n",
      "2025-03-07 08:00:00    1\n",
      "2025-03-07 09:00:00    1\n",
      "2025-03-07 10:00:00    1\n",
      "2025-03-07 11:00:00    1\n",
      "2025-03-07 12:00:00    1\n",
      "Name: count, Length: 413, dtype: int64\n"
     ]
    }
   ],
   "source": [
    "#Verificar la continuidad de los datos\n",
    "# Contar los registros por día\n",
    "print(df[\"datetime\"].value_counts().sort_index())"
   ]
  },
  {
   "cell_type": "markdown",
   "metadata": {
    "id": "WZNlbzh2a6Cz"
   },
   "source": [
    "Esta falta de continuidad se debe a que la información recolectada data desde el día 18-02-25 a las 08:00 y termina el día 05-03-2025 a las 18:00"
   ]
  },
  {
   "cell_type": "code",
   "execution_count": 60,
   "metadata": {
    "colab": {
     "base_uri": "https://localhost:8080/"
    },
    "executionInfo": {
     "elapsed": 3,
     "status": "ok",
     "timestamp": 1741693473870,
     "user": {
      "displayName": "Leonardo Leal Vivas",
      "userId": "09547247894374016406"
     },
     "user_tz": -60
    },
    "id": "wsJnVM50bFhz",
    "outputId": "02b1360e-c011-4aa8-ae5e-4055bbefe17f"
   },
   "outputs": [
    {
     "name": "stdout",
     "output_type": "stream",
     "text": [
      "No hay fechas faltantes en el rango especificado.\n"
     ]
    }
   ],
   "source": [
    "# Verificamos si dentro de nuestro rango de días falta una hora en nuestro dataframe.\n",
    "rango_completo = pd.date_range(start=df[\"datetime\"].min(), end=df[\"datetime\"].max(), freq=\"h\")\n",
    "\n",
    "# Verificar las diferencias\n",
    "fechas_faltantes = rango_completo.difference(df[\"datetime\"])\n",
    "\n",
    "if fechas_faltantes.empty:\n",
    "    print(\"No hay fechas faltantes en el rango especificado.\")\n",
    "else:\n",
    "    print(\"Faltan las siguientes fechas en el rango:\")\n",
    "    print(fechas_faltantes)"
   ]
  },
  {
   "cell_type": "code",
   "execution_count": 61,
   "metadata": {
    "colab": {
     "base_uri": "https://localhost:8080/"
    },
    "executionInfo": {
     "elapsed": 7,
     "status": "ok",
     "timestamp": 1741693475113,
     "user": {
      "displayName": "Leonardo Leal Vivas",
      "userId": "09547247894374016406"
     },
     "user_tz": -60
    },
    "id": "MxwA_G4WcO2X",
    "outputId": "753488dd-b156-4764-d9d0-7046512b9c2f"
   },
   "outputs": [
    {
     "name": "stdout",
     "output_type": "stream",
     "text": [
      "['northeast' 'east' 'south' 'west' 'northwest' 'north' 'southwest'\n",
      " 'southeast' 'calm']\n",
      "['high clouds' 'overcast' 'few clouds' 'cloudy' 'very cloudy' 'clear'\n",
      " 'overcast with light rain' 'overcast with rain'\n",
      " 'overcast with thunderstorm and light rain']\n"
     ]
    }
   ],
   "source": [
    "#Validación de los datos categóricos para saber si hay errores de escritura\n",
    "print(df[\"wind_direction\"].unique())\n",
    "print(df[\"sky_condition\"].unique())"
   ]
  },
  {
   "cell_type": "code",
   "execution_count": 62,
   "metadata": {
    "colab": {
     "base_uri": "https://localhost:8080/"
    },
    "executionInfo": {
     "elapsed": 9,
     "status": "ok",
     "timestamp": 1741693476405,
     "user": {
      "displayName": "Leonardo Leal Vivas",
      "userId": "09547247894374016406"
     },
     "user_tz": -60
    },
    "id": "X_qYPM-lw0tN",
    "outputId": "fde3ab52-9b4b-4ecd-bc55-e0cd99e524e5"
   },
   "outputs": [
    {
     "name": "stdout",
     "output_type": "stream",
     "text": [
      "No se encontraron filas duplicadas.\n"
     ]
    }
   ],
   "source": [
    "# Verificamos si hay filas duplicadas\n",
    "duplicados = df.duplicated()\n",
    "\n",
    "# Verificamos si hay duplicados\n",
    "if duplicados.any():\n",
    "    # Imprimir el número de filas duplicadas\n",
    "    print(f\"Número de filas duplicadas encontradas: {duplicados.sum()}\")\n",
    "\n",
    "    # Imprimir las filas duplicadas\n",
    "    print(\"Filas duplicadas:\")\n",
    "    print(df[duplicados])\n",
    "\n",
    "    # Guardar las filas duplicadas en un DataFrame separado // Solo lo guardamos por si debemos regresar a una versión con las filas duplicadas\n",
    "    df_duplicados = df[duplicados].copy()  # Usamos .copy() para evitar SettingWithCopyWarning\n",
    "\n",
    "    # Eliminar filas duplicadas (manteniendo la primera aparición)\n",
    "    df = df.drop_duplicates()\n",
    "\n",
    "    # Imprimir mensaje de confirmación\n",
    "    print(\"Filas duplicadas eliminadas.\")\n",
    "\n",
    "    # Guardar el DataFrame de duplicados en un archivo CSV (opcional)\n",
    "    df_duplicados.to_csv(\"filas_duplicadas.csv\", index=False)\n",
    "    print(\"Filas duplicadas guardadas en 'filas_duplicadas.csv'\")\n",
    "else:\n",
    "    # Imprimir mensaje si no hay duplicados\n",
    "    print(\"No se encontraron filas duplicadas.\")\n"
   ]
  },
  {
   "cell_type": "code",
   "execution_count": 63,
   "metadata": {
    "colab": {
     "base_uri": "https://localhost:8080/"
    },
    "executionInfo": {
     "elapsed": 25,
     "status": "ok",
     "timestamp": 1741693477871,
     "user": {
      "displayName": "Leonardo Leal Vivas",
      "userId": "09547247894374016406"
     },
     "user_tz": -60
    },
    "id": "QtPSxvSGchaB",
    "outputId": "5fe0658f-6061-4b5d-806b-824d8d450a4c"
   },
   "outputs": [
    {
     "name": "stdout",
     "output_type": "stream",
     "text": [
      "Archivo CSV guardado correctamente.\n",
      "             datetime  temperature  humidity  wind_speed wind_direction  \\\n",
      "0 2025-02-18 08:00:00          7.0      87.0        12.0      northeast   \n",
      "1 2025-02-18 09:00:00          8.0      80.0        11.0      northeast   \n",
      "2 2025-02-18 10:00:00          9.0      73.0        11.0      northeast   \n",
      "3 2025-02-18 11:00:00         10.0      65.0         8.0           east   \n",
      "4 2025-02-18 12:00:00         12.0      58.0         6.0           east   \n",
      "\n",
      "   wind_direction_degrees sky_condition wind_status  \n",
      "0                    45.0   high clouds   with wind  \n",
      "1                    45.0   high clouds   with wind  \n",
      "2                    45.0   high clouds   with wind  \n",
      "3                    90.0   high clouds   with wind  \n",
      "4                    90.0   high clouds   with wind  \n"
     ]
    }
   ],
   "source": [
    "#Una vez todo limpio y verificado procedemos a guardar el archivo con las modificaciones correspondientes:\n",
    "\n",
    "df_a_guardar = df.copy()\n",
    "df_a_guardar.to_csv(\"dataframe_clima_limpio.csv\", index= False)\n",
    "if df_a_guardar.to_csv:\n",
    "  print(\"Archivo CSV guardado correctamente.\")\n",
    "  print(df_a_guardar.head())\n",
    "else:\n",
    "  print(\"Error al guardar el archivo CSV.\")"
   ]
  }
 ],
 "metadata": {
  "colab": {
   "authorship_tag": "ABX9TyNfiIbaQNu1fxt8HmKlcEmS",
   "provenance": []
  },
  "kernelspec": {
   "display_name": "Python 3 (ipykernel)",
   "language": "python",
   "name": "python3"
  },
  "language_info": {
   "codemirror_mode": {
    "name": "ipython",
    "version": 3
   },
   "file_extension": ".py",
   "mimetype": "text/x-python",
   "name": "python",
   "nbconvert_exporter": "python",
   "pygments_lexer": "ipython3",
   "version": "3.12.5"
  }
 },
 "nbformat": 4,
 "nbformat_minor": 4
}
